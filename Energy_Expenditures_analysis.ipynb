{
 "cells": [
  {
   "cell_type": "markdown",
   "metadata": {},
   "source": [
    "data source: https://www.kaggle.com/kerneler/starter-household-monthly-electricity-850d9d89-0"
   ]
  },
  {
   "cell_type": "markdown",
   "metadata": {},
   "source": [
    "# Analysis of Monthly Household Energy-Related Expenditures"
   ]
  },
  {
   "cell_type": "markdown",
   "metadata": {},
   "source": [
    "### Feature Descriptions:\n",
    "\n",
    "- num_rooms: number of rooms in the house\n",
    "- num_people: number of people living within the house\n",
    "- housearea: area of the house (no specification on units, assuming area in sq. meters)\n",
    "- is_ac: is ac present in the house?\n",
    "- is_tv: is a tv present in the house?\n",
    "- is_flat: is the house a flat?\n",
    "- ave_monthly_income: avg income / month / household\n",
    "- num_children: number of children in the household\n",
    "- is_urban: is the house located in an urban setting?\n",
    "- amount_paid: monthly energy bill amount"
   ]
  },
  {
   "cell_type": "code",
   "execution_count": 2,
   "metadata": {},
   "outputs": [],
   "source": [
    "import pandas as pd"
   ]
  },
  {
   "cell_type": "code",
   "execution_count": 3,
   "metadata": {},
   "outputs": [],
   "source": [
    "data1 = pd.read_csv('household_energy_bill_init.csv')"
   ]
  },
  {
   "cell_type": "code",
   "execution_count": 51,
   "metadata": {},
   "outputs": [
    {
     "data": {
      "text/html": [
       "<div>\n",
       "<style scoped>\n",
       "    .dataframe tbody tr th:only-of-type {\n",
       "        vertical-align: middle;\n",
       "    }\n",
       "\n",
       "    .dataframe tbody tr th {\n",
       "        vertical-align: top;\n",
       "    }\n",
       "\n",
       "    .dataframe thead th {\n",
       "        text-align: right;\n",
       "    }\n",
       "</style>\n",
       "<table border=\"1\" class=\"dataframe\">\n",
       "  <thead>\n",
       "    <tr style=\"text-align: right;\">\n",
       "      <th></th>\n",
       "      <th>num_rooms</th>\n",
       "      <th>num_people</th>\n",
       "      <th>housearea</th>\n",
       "      <th>is_ac</th>\n",
       "      <th>is_tv</th>\n",
       "      <th>is_flat</th>\n",
       "      <th>ave_monthly_income</th>\n",
       "      <th>num_children</th>\n",
       "      <th>is_urban</th>\n",
       "      <th>amount_paid</th>\n",
       "    </tr>\n",
       "  </thead>\n",
       "  <tbody>\n",
       "    <tr>\n",
       "      <th>0</th>\n",
       "      <td>3</td>\n",
       "      <td>3</td>\n",
       "      <td>742.57</td>\n",
       "      <td>1</td>\n",
       "      <td>1</td>\n",
       "      <td>1</td>\n",
       "      <td>9675.93</td>\n",
       "      <td>2</td>\n",
       "      <td>0</td>\n",
       "      <td>560.481447</td>\n",
       "    </tr>\n",
       "    <tr>\n",
       "      <th>1</th>\n",
       "      <td>1</td>\n",
       "      <td>5</td>\n",
       "      <td>952.99</td>\n",
       "      <td>0</td>\n",
       "      <td>1</td>\n",
       "      <td>0</td>\n",
       "      <td>35064.79</td>\n",
       "      <td>1</td>\n",
       "      <td>1</td>\n",
       "      <td>633.283679</td>\n",
       "    </tr>\n",
       "    <tr>\n",
       "      <th>2</th>\n",
       "      <td>3</td>\n",
       "      <td>1</td>\n",
       "      <td>761.44</td>\n",
       "      <td>1</td>\n",
       "      <td>1</td>\n",
       "      <td>1</td>\n",
       "      <td>22292.44</td>\n",
       "      <td>0</td>\n",
       "      <td>0</td>\n",
       "      <td>511.879157</td>\n",
       "    </tr>\n",
       "    <tr>\n",
       "      <th>3</th>\n",
       "      <td>0</td>\n",
       "      <td>5</td>\n",
       "      <td>861.32</td>\n",
       "      <td>1</td>\n",
       "      <td>1</td>\n",
       "      <td>0</td>\n",
       "      <td>12139.08</td>\n",
       "      <td>0</td>\n",
       "      <td>0</td>\n",
       "      <td>332.992035</td>\n",
       "    </tr>\n",
       "    <tr>\n",
       "      <th>4</th>\n",
       "      <td>1</td>\n",
       "      <td>8</td>\n",
       "      <td>731.61</td>\n",
       "      <td>0</td>\n",
       "      <td>1</td>\n",
       "      <td>0</td>\n",
       "      <td>17230.10</td>\n",
       "      <td>2</td>\n",
       "      <td>1</td>\n",
       "      <td>658.285625</td>\n",
       "    </tr>\n",
       "    <tr>\n",
       "      <th>...</th>\n",
       "      <td>...</td>\n",
       "      <td>...</td>\n",
       "      <td>...</td>\n",
       "      <td>...</td>\n",
       "      <td>...</td>\n",
       "      <td>...</td>\n",
       "      <td>...</td>\n",
       "      <td>...</td>\n",
       "      <td>...</td>\n",
       "      <td>...</td>\n",
       "    </tr>\n",
       "    <tr>\n",
       "      <th>995</th>\n",
       "      <td>3</td>\n",
       "      <td>0</td>\n",
       "      <td>991.31</td>\n",
       "      <td>0</td>\n",
       "      <td>1</td>\n",
       "      <td>0</td>\n",
       "      <td>12687.26</td>\n",
       "      <td>1</td>\n",
       "      <td>1</td>\n",
       "      <td>655.870111</td>\n",
       "    </tr>\n",
       "    <tr>\n",
       "      <th>996</th>\n",
       "      <td>2</td>\n",
       "      <td>5</td>\n",
       "      <td>847.97</td>\n",
       "      <td>0</td>\n",
       "      <td>1</td>\n",
       "      <td>0</td>\n",
       "      <td>39502.92</td>\n",
       "      <td>0</td>\n",
       "      <td>0</td>\n",
       "      <td>354.472693</td>\n",
       "    </tr>\n",
       "    <tr>\n",
       "      <th>997</th>\n",
       "      <td>2</td>\n",
       "      <td>4</td>\n",
       "      <td>660.94</td>\n",
       "      <td>1</td>\n",
       "      <td>0</td>\n",
       "      <td>0</td>\n",
       "      <td>10145.17</td>\n",
       "      <td>0</td>\n",
       "      <td>1</td>\n",
       "      <td>568.660550</td>\n",
       "    </tr>\n",
       "    <tr>\n",
       "      <th>998</th>\n",
       "      <td>1</td>\n",
       "      <td>1</td>\n",
       "      <td>814.75</td>\n",
       "      <td>0</td>\n",
       "      <td>1</td>\n",
       "      <td>1</td>\n",
       "      <td>15535.05</td>\n",
       "      <td>0</td>\n",
       "      <td>1</td>\n",
       "      <td>653.423314</td>\n",
       "    </tr>\n",
       "    <tr>\n",
       "      <th>999</th>\n",
       "      <td>1</td>\n",
       "      <td>6</td>\n",
       "      <td>835.43</td>\n",
       "      <td>0</td>\n",
       "      <td>0</td>\n",
       "      <td>0</td>\n",
       "      <td>22204.00</td>\n",
       "      <td>0</td>\n",
       "      <td>1</td>\n",
       "      <td>537.801005</td>\n",
       "    </tr>\n",
       "  </tbody>\n",
       "</table>\n",
       "<p>1000 rows × 10 columns</p>\n",
       "</div>"
      ],
      "text/plain": [
       "     num_rooms  num_people  housearea  is_ac  is_tv  is_flat  \\\n",
       "0            3           3     742.57      1      1        1   \n",
       "1            1           5     952.99      0      1        0   \n",
       "2            3           1     761.44      1      1        1   \n",
       "3            0           5     861.32      1      1        0   \n",
       "4            1           8     731.61      0      1        0   \n",
       "..         ...         ...        ...    ...    ...      ...   \n",
       "995          3           0     991.31      0      1        0   \n",
       "996          2           5     847.97      0      1        0   \n",
       "997          2           4     660.94      1      0        0   \n",
       "998          1           1     814.75      0      1        1   \n",
       "999          1           6     835.43      0      0        0   \n",
       "\n",
       "     ave_monthly_income  num_children  is_urban  amount_paid  \n",
       "0               9675.93             2         0   560.481447  \n",
       "1              35064.79             1         1   633.283679  \n",
       "2              22292.44             0         0   511.879157  \n",
       "3              12139.08             0         0   332.992035  \n",
       "4              17230.10             2         1   658.285625  \n",
       "..                  ...           ...       ...          ...  \n",
       "995            12687.26             1         1   655.870111  \n",
       "996            39502.92             0         0   354.472693  \n",
       "997            10145.17             0         1   568.660550  \n",
       "998            15535.05             0         1   653.423314  \n",
       "999            22204.00             0         1   537.801005  \n",
       "\n",
       "[1000 rows x 10 columns]"
      ]
     },
     "execution_count": 51,
     "metadata": {},
     "output_type": "execute_result"
    }
   ],
   "source": [
    "data1"
   ]
  },
  {
   "cell_type": "markdown",
   "metadata": {},
   "source": [
    "# Forming problem / what we want to predict"
   ]
  },
  {
   "cell_type": "markdown",
   "metadata": {},
   "source": [
    "### Step 1: Predict most significant predictors of monthly bill amount and then utilize Exploratory's data analysis UI to qucikly check for accuracy."
   ]
  },
  {
   "cell_type": "code",
   "execution_count": 5,
   "metadata": {},
   "outputs": [],
   "source": [
    "import numpy as np #numerical computation\n",
    "import matplotlib.pyplot as plt #plotting package\n",
    "%matplotlib inline\n",
    "import matplotlib as mpl #more plotting\n",
    "import seaborn as sns #new, fancy plotting package\n",
    "mpl.rcParams['figure.dpi']=400 #high resolution matplotlib figures"
   ]
  },
  {
   "cell_type": "code",
   "execution_count": 6,
   "metadata": {},
   "outputs": [
    {
     "data": {
      "text/html": [
       "<div>\n",
       "<style scoped>\n",
       "    .dataframe tbody tr th:only-of-type {\n",
       "        vertical-align: middle;\n",
       "    }\n",
       "\n",
       "    .dataframe tbody tr th {\n",
       "        vertical-align: top;\n",
       "    }\n",
       "\n",
       "    .dataframe thead th {\n",
       "        text-align: right;\n",
       "    }\n",
       "</style>\n",
       "<table border=\"1\" class=\"dataframe\">\n",
       "  <thead>\n",
       "    <tr style=\"text-align: right;\">\n",
       "      <th></th>\n",
       "      <th>num_rooms</th>\n",
       "      <th>num_people</th>\n",
       "      <th>housearea</th>\n",
       "      <th>is_ac</th>\n",
       "      <th>is_tv</th>\n",
       "      <th>is_flat</th>\n",
       "      <th>ave_monthly_income</th>\n",
       "      <th>num_children</th>\n",
       "      <th>is_urban</th>\n",
       "    </tr>\n",
       "  </thead>\n",
       "  <tbody>\n",
       "    <tr>\n",
       "      <th>0</th>\n",
       "      <td>3</td>\n",
       "      <td>3</td>\n",
       "      <td>742.57</td>\n",
       "      <td>1</td>\n",
       "      <td>1</td>\n",
       "      <td>1</td>\n",
       "      <td>9675.93</td>\n",
       "      <td>2</td>\n",
       "      <td>0</td>\n",
       "    </tr>\n",
       "    <tr>\n",
       "      <th>1</th>\n",
       "      <td>1</td>\n",
       "      <td>5</td>\n",
       "      <td>952.99</td>\n",
       "      <td>0</td>\n",
       "      <td>1</td>\n",
       "      <td>0</td>\n",
       "      <td>35064.79</td>\n",
       "      <td>1</td>\n",
       "      <td>1</td>\n",
       "    </tr>\n",
       "    <tr>\n",
       "      <th>2</th>\n",
       "      <td>3</td>\n",
       "      <td>1</td>\n",
       "      <td>761.44</td>\n",
       "      <td>1</td>\n",
       "      <td>1</td>\n",
       "      <td>1</td>\n",
       "      <td>22292.44</td>\n",
       "      <td>0</td>\n",
       "      <td>0</td>\n",
       "    </tr>\n",
       "    <tr>\n",
       "      <th>3</th>\n",
       "      <td>0</td>\n",
       "      <td>5</td>\n",
       "      <td>861.32</td>\n",
       "      <td>1</td>\n",
       "      <td>1</td>\n",
       "      <td>0</td>\n",
       "      <td>12139.08</td>\n",
       "      <td>0</td>\n",
       "      <td>0</td>\n",
       "    </tr>\n",
       "    <tr>\n",
       "      <th>4</th>\n",
       "      <td>1</td>\n",
       "      <td>8</td>\n",
       "      <td>731.61</td>\n",
       "      <td>0</td>\n",
       "      <td>1</td>\n",
       "      <td>0</td>\n",
       "      <td>17230.10</td>\n",
       "      <td>2</td>\n",
       "      <td>1</td>\n",
       "    </tr>\n",
       "    <tr>\n",
       "      <th>...</th>\n",
       "      <td>...</td>\n",
       "      <td>...</td>\n",
       "      <td>...</td>\n",
       "      <td>...</td>\n",
       "      <td>...</td>\n",
       "      <td>...</td>\n",
       "      <td>...</td>\n",
       "      <td>...</td>\n",
       "      <td>...</td>\n",
       "    </tr>\n",
       "    <tr>\n",
       "      <th>995</th>\n",
       "      <td>3</td>\n",
       "      <td>0</td>\n",
       "      <td>991.31</td>\n",
       "      <td>0</td>\n",
       "      <td>1</td>\n",
       "      <td>0</td>\n",
       "      <td>12687.26</td>\n",
       "      <td>1</td>\n",
       "      <td>1</td>\n",
       "    </tr>\n",
       "    <tr>\n",
       "      <th>996</th>\n",
       "      <td>2</td>\n",
       "      <td>5</td>\n",
       "      <td>847.97</td>\n",
       "      <td>0</td>\n",
       "      <td>1</td>\n",
       "      <td>0</td>\n",
       "      <td>39502.92</td>\n",
       "      <td>0</td>\n",
       "      <td>0</td>\n",
       "    </tr>\n",
       "    <tr>\n",
       "      <th>997</th>\n",
       "      <td>2</td>\n",
       "      <td>4</td>\n",
       "      <td>660.94</td>\n",
       "      <td>1</td>\n",
       "      <td>0</td>\n",
       "      <td>0</td>\n",
       "      <td>10145.17</td>\n",
       "      <td>0</td>\n",
       "      <td>1</td>\n",
       "    </tr>\n",
       "    <tr>\n",
       "      <th>998</th>\n",
       "      <td>1</td>\n",
       "      <td>1</td>\n",
       "      <td>814.75</td>\n",
       "      <td>0</td>\n",
       "      <td>1</td>\n",
       "      <td>1</td>\n",
       "      <td>15535.05</td>\n",
       "      <td>0</td>\n",
       "      <td>1</td>\n",
       "    </tr>\n",
       "    <tr>\n",
       "      <th>999</th>\n",
       "      <td>1</td>\n",
       "      <td>6</td>\n",
       "      <td>835.43</td>\n",
       "      <td>0</td>\n",
       "      <td>0</td>\n",
       "      <td>0</td>\n",
       "      <td>22204.00</td>\n",
       "      <td>0</td>\n",
       "      <td>1</td>\n",
       "    </tr>\n",
       "  </tbody>\n",
       "</table>\n",
       "<p>1000 rows × 9 columns</p>\n",
       "</div>"
      ],
      "text/plain": [
       "     num_rooms  num_people  housearea  is_ac  is_tv  is_flat  \\\n",
       "0            3           3     742.57      1      1        1   \n",
       "1            1           5     952.99      0      1        0   \n",
       "2            3           1     761.44      1      1        1   \n",
       "3            0           5     861.32      1      1        0   \n",
       "4            1           8     731.61      0      1        0   \n",
       "..         ...         ...        ...    ...    ...      ...   \n",
       "995          3           0     991.31      0      1        0   \n",
       "996          2           5     847.97      0      1        0   \n",
       "997          2           4     660.94      1      0        0   \n",
       "998          1           1     814.75      0      1        1   \n",
       "999          1           6     835.43      0      0        0   \n",
       "\n",
       "     ave_monthly_income  num_children  is_urban  \n",
       "0               9675.93             2         0  \n",
       "1              35064.79             1         1  \n",
       "2              22292.44             0         0  \n",
       "3              12139.08             0         0  \n",
       "4              17230.10             2         1  \n",
       "..                  ...           ...       ...  \n",
       "995            12687.26             1         1  \n",
       "996            39502.92             0         0  \n",
       "997            10145.17             0         1  \n",
       "998            15535.05             0         1  \n",
       "999            22204.00             0         1  \n",
       "\n",
       "[1000 rows x 9 columns]"
      ]
     },
     "execution_count": 6,
     "metadata": {},
     "output_type": "execute_result"
    }
   ],
   "source": [
    "ind_vars1 = data1.iloc[:,0:9]\n",
    "ind_vars1"
   ]
  },
  {
   "cell_type": "code",
   "execution_count": 8,
   "metadata": {},
   "outputs": [
    {
     "data": {
      "text/plain": [
       "0    560.481447\n",
       "1    633.283679\n",
       "2    511.879157\n",
       "3    332.992035\n",
       "4    658.285625\n",
       "Name: amount_paid, dtype: float64"
      ]
     },
     "execution_count": 8,
     "metadata": {},
     "output_type": "execute_result"
    }
   ],
   "source": [
    "dep_var1 = data1.iloc[:,-1]\n",
    "dep_var1.head()"
   ]
  },
  {
   "cell_type": "code",
   "execution_count": 9,
   "metadata": {},
   "outputs": [],
   "source": [
    "correlation1 = data1.corr()"
   ]
  },
  {
   "cell_type": "code",
   "execution_count": 10,
   "metadata": {},
   "outputs": [
    {
     "data": {
      "text/html": [
       "<div>\n",
       "<style scoped>\n",
       "    .dataframe tbody tr th:only-of-type {\n",
       "        vertical-align: middle;\n",
       "    }\n",
       "\n",
       "    .dataframe tbody tr th {\n",
       "        vertical-align: top;\n",
       "    }\n",
       "\n",
       "    .dataframe thead th {\n",
       "        text-align: right;\n",
       "    }\n",
       "</style>\n",
       "<table border=\"1\" class=\"dataframe\">\n",
       "  <thead>\n",
       "    <tr style=\"text-align: right;\">\n",
       "      <th></th>\n",
       "      <th>num_rooms</th>\n",
       "      <th>num_people</th>\n",
       "      <th>housearea</th>\n",
       "      <th>is_ac</th>\n",
       "      <th>is_tv</th>\n",
       "      <th>is_flat</th>\n",
       "      <th>ave_monthly_income</th>\n",
       "      <th>num_children</th>\n",
       "      <th>is_urban</th>\n",
       "      <th>amount_paid</th>\n",
       "    </tr>\n",
       "  </thead>\n",
       "  <tbody>\n",
       "    <tr>\n",
       "      <th>num_rooms</th>\n",
       "      <td>1.000000</td>\n",
       "      <td>-0.005765</td>\n",
       "      <td>-0.033561</td>\n",
       "      <td>0.018620</td>\n",
       "      <td>-0.016146</td>\n",
       "      <td>0.004133</td>\n",
       "      <td>-0.000345</td>\n",
       "      <td>-0.037474</td>\n",
       "      <td>-0.015705</td>\n",
       "      <td>-0.023933</td>\n",
       "    </tr>\n",
       "    <tr>\n",
       "      <th>num_people</th>\n",
       "      <td>-0.005765</td>\n",
       "      <td>1.000000</td>\n",
       "      <td>0.000072</td>\n",
       "      <td>0.033672</td>\n",
       "      <td>0.020101</td>\n",
       "      <td>0.012104</td>\n",
       "      <td>0.019152</td>\n",
       "      <td>-0.010656</td>\n",
       "      <td>-0.023863</td>\n",
       "      <td>0.053501</td>\n",
       "    </tr>\n",
       "    <tr>\n",
       "      <th>housearea</th>\n",
       "      <td>-0.033561</td>\n",
       "      <td>0.000072</td>\n",
       "      <td>1.000000</td>\n",
       "      <td>0.036039</td>\n",
       "      <td>0.088323</td>\n",
       "      <td>0.007986</td>\n",
       "      <td>-0.042645</td>\n",
       "      <td>0.038699</td>\n",
       "      <td>0.024902</td>\n",
       "      <td>0.096157</td>\n",
       "    </tr>\n",
       "    <tr>\n",
       "      <th>is_ac</th>\n",
       "      <td>0.018620</td>\n",
       "      <td>0.033672</td>\n",
       "      <td>0.036039</td>\n",
       "      <td>1.000000</td>\n",
       "      <td>-0.000247</td>\n",
       "      <td>0.002678</td>\n",
       "      <td>-0.014054</td>\n",
       "      <td>-0.027256</td>\n",
       "      <td>-0.053317</td>\n",
       "      <td>0.390003</td>\n",
       "    </tr>\n",
       "    <tr>\n",
       "      <th>is_tv</th>\n",
       "      <td>-0.016146</td>\n",
       "      <td>0.020101</td>\n",
       "      <td>0.088323</td>\n",
       "      <td>-0.000247</td>\n",
       "      <td>1.000000</td>\n",
       "      <td>-0.028155</td>\n",
       "      <td>0.013664</td>\n",
       "      <td>0.015353</td>\n",
       "      <td>0.034774</td>\n",
       "      <td>0.197613</td>\n",
       "    </tr>\n",
       "    <tr>\n",
       "      <th>is_flat</th>\n",
       "      <td>0.004133</td>\n",
       "      <td>0.012104</td>\n",
       "      <td>0.007986</td>\n",
       "      <td>0.002678</td>\n",
       "      <td>-0.028155</td>\n",
       "      <td>1.000000</td>\n",
       "      <td>-0.014879</td>\n",
       "      <td>-0.028315</td>\n",
       "      <td>-0.000066</td>\n",
       "      <td>0.147927</td>\n",
       "    </tr>\n",
       "    <tr>\n",
       "      <th>ave_monthly_income</th>\n",
       "      <td>-0.000345</td>\n",
       "      <td>0.019152</td>\n",
       "      <td>-0.042645</td>\n",
       "      <td>-0.014054</td>\n",
       "      <td>0.013664</td>\n",
       "      <td>-0.014879</td>\n",
       "      <td>1.000000</td>\n",
       "      <td>0.008329</td>\n",
       "      <td>-0.039424</td>\n",
       "      <td>0.025889</td>\n",
       "    </tr>\n",
       "    <tr>\n",
       "      <th>num_children</th>\n",
       "      <td>-0.037474</td>\n",
       "      <td>-0.010656</td>\n",
       "      <td>0.038699</td>\n",
       "      <td>-0.027256</td>\n",
       "      <td>0.015353</td>\n",
       "      <td>-0.028315</td>\n",
       "      <td>0.008329</td>\n",
       "      <td>1.000000</td>\n",
       "      <td>-0.007511</td>\n",
       "      <td>0.447512</td>\n",
       "    </tr>\n",
       "    <tr>\n",
       "      <th>is_urban</th>\n",
       "      <td>-0.015705</td>\n",
       "      <td>-0.023863</td>\n",
       "      <td>0.024902</td>\n",
       "      <td>-0.053317</td>\n",
       "      <td>0.034774</td>\n",
       "      <td>-0.000066</td>\n",
       "      <td>-0.039424</td>\n",
       "      <td>-0.007511</td>\n",
       "      <td>1.000000</td>\n",
       "      <td>0.649568</td>\n",
       "    </tr>\n",
       "    <tr>\n",
       "      <th>amount_paid</th>\n",
       "      <td>-0.023933</td>\n",
       "      <td>0.053501</td>\n",
       "      <td>0.096157</td>\n",
       "      <td>0.390003</td>\n",
       "      <td>0.197613</td>\n",
       "      <td>0.147927</td>\n",
       "      <td>0.025889</td>\n",
       "      <td>0.447512</td>\n",
       "      <td>0.649568</td>\n",
       "      <td>1.000000</td>\n",
       "    </tr>\n",
       "  </tbody>\n",
       "</table>\n",
       "</div>"
      ],
      "text/plain": [
       "                    num_rooms  num_people  housearea     is_ac     is_tv  \\\n",
       "num_rooms            1.000000   -0.005765  -0.033561  0.018620 -0.016146   \n",
       "num_people          -0.005765    1.000000   0.000072  0.033672  0.020101   \n",
       "housearea           -0.033561    0.000072   1.000000  0.036039  0.088323   \n",
       "is_ac                0.018620    0.033672   0.036039  1.000000 -0.000247   \n",
       "is_tv               -0.016146    0.020101   0.088323 -0.000247  1.000000   \n",
       "is_flat              0.004133    0.012104   0.007986  0.002678 -0.028155   \n",
       "ave_monthly_income  -0.000345    0.019152  -0.042645 -0.014054  0.013664   \n",
       "num_children        -0.037474   -0.010656   0.038699 -0.027256  0.015353   \n",
       "is_urban            -0.015705   -0.023863   0.024902 -0.053317  0.034774   \n",
       "amount_paid         -0.023933    0.053501   0.096157  0.390003  0.197613   \n",
       "\n",
       "                     is_flat  ave_monthly_income  num_children  is_urban  \\\n",
       "num_rooms           0.004133           -0.000345     -0.037474 -0.015705   \n",
       "num_people          0.012104            0.019152     -0.010656 -0.023863   \n",
       "housearea           0.007986           -0.042645      0.038699  0.024902   \n",
       "is_ac               0.002678           -0.014054     -0.027256 -0.053317   \n",
       "is_tv              -0.028155            0.013664      0.015353  0.034774   \n",
       "is_flat             1.000000           -0.014879     -0.028315 -0.000066   \n",
       "ave_monthly_income -0.014879            1.000000      0.008329 -0.039424   \n",
       "num_children       -0.028315            0.008329      1.000000 -0.007511   \n",
       "is_urban           -0.000066           -0.039424     -0.007511  1.000000   \n",
       "amount_paid         0.147927            0.025889      0.447512  0.649568   \n",
       "\n",
       "                    amount_paid  \n",
       "num_rooms             -0.023933  \n",
       "num_people             0.053501  \n",
       "housearea              0.096157  \n",
       "is_ac                  0.390003  \n",
       "is_tv                  0.197613  \n",
       "is_flat                0.147927  \n",
       "ave_monthly_income     0.025889  \n",
       "num_children           0.447512  \n",
       "is_urban               0.649568  \n",
       "amount_paid            1.000000  "
      ]
     },
     "execution_count": 10,
     "metadata": {},
     "output_type": "execute_result"
    }
   ],
   "source": [
    "correlation1"
   ]
  },
  {
   "cell_type": "code",
   "execution_count": 11,
   "metadata": {},
   "outputs": [
    {
     "data": {
      "text/plain": [
       "<matplotlib.axes._subplots.AxesSubplot at 0x2905d7aa2c8>"
      ]
     },
     "execution_count": 11,
     "metadata": {},
     "output_type": "execute_result"
    },
    {
     "data": {
      "image/png": "[encoded data removed]",
      "text/plain": [
       "<Figure size 2400x1600 with 2 Axes>"
      ]
     },
     "metadata": {
      "needs_background": "light"
     },
     "output_type": "display_data"
    }
   ],
   "source": [
    "sns.heatmap(correlation1, xticklabels=correlation1.columns.values,\n",
    "            yticklabels=correlation1.columns.values, center = 0)"
   ]
  },
  {
   "cell_type": "code",
   "execution_count": 12,
   "metadata": {},
   "outputs": [
    {
     "data": {
      "text/plain": [
       "num_rooms            -0.023933\n",
       "num_people            0.053501\n",
       "housearea             0.096157\n",
       "is_ac                 0.390003\n",
       "is_tv                 0.197613\n",
       "is_flat               0.147927\n",
       "ave_monthly_income    0.025889\n",
       "num_children          0.447512\n",
       "is_urban              0.649568\n",
       "amount_paid           1.000000\n",
       "Name: amount_paid, dtype: float64"
      ]
     },
     "execution_count": 12,
     "metadata": {},
     "output_type": "execute_result"
    }
   ],
   "source": [
    "amount_corr1 = correlation1.iloc[-1, :]\n",
    "amount_corr1"
   ]
  },
  {
   "cell_type": "code",
   "execution_count": 13,
   "metadata": {},
   "outputs": [
    {
     "data": {
      "text/plain": [
       "num_rooms            -0.023933\n",
       "ave_monthly_income    0.025889\n",
       "num_people            0.053501\n",
       "housearea             0.096157\n",
       "is_flat               0.147927\n",
       "is_tv                 0.197613\n",
       "is_ac                 0.390003\n",
       "num_children          0.447512\n",
       "is_urban              0.649568\n",
       "amount_paid           1.000000\n",
       "Name: amount_paid, dtype: float64"
      ]
     },
     "execution_count": 13,
     "metadata": {},
     "output_type": "execute_result"
    }
   ],
   "source": [
    "amount_corr1 = amount_corr1.sort_values()\n",
    "amount_corr1"
   ]
  },
  {
   "cell_type": "markdown",
   "metadata": {},
   "source": [
    "Top 5 most significant correlation values (desc):\n",
    "\n",
    "- is_urban\n",
    "- num_children\n",
    "- is_ac\n",
    "- is_tv\n",
    "- is_flat"
   ]
  },
  {
   "cell_type": "code",
   "execution_count": 14,
   "metadata": {},
   "outputs": [],
   "source": [
    "sig_corr1 = amount_corr1.iloc[-6::]"
   ]
  },
  {
   "cell_type": "code",
   "execution_count": 15,
   "metadata": {},
   "outputs": [
    {
     "data": {
      "text/plain": [
       "is_flat         0.147927\n",
       "is_tv           0.197613\n",
       "is_ac           0.390003\n",
       "num_children    0.447512\n",
       "is_urban        0.649568\n",
       "amount_paid     1.000000\n",
       "Name: amount_paid, dtype: float64"
      ]
     },
     "execution_count": 15,
     "metadata": {},
     "output_type": "execute_result"
    }
   ],
   "source": [
    "sig_corr1"
   ]
  },
  {
   "cell_type": "code",
   "execution_count": 16,
   "metadata": {},
   "outputs": [
    {
     "data": {
      "text/plain": [
       "[0.14792657834181372,\n",
       " 0.19761274362116457,\n",
       " 0.3900028129199385,\n",
       " 0.44751233714142713,\n",
       " 0.6495680816675579,\n",
       " 1.0]"
      ]
     },
     "execution_count": 16,
     "metadata": {},
     "output_type": "execute_result"
    }
   ],
   "source": [
    "sig_corr1.tolist()"
   ]
  },
  {
   "cell_type": "code",
   "execution_count": 17,
   "metadata": {},
   "outputs": [],
   "source": [
    "sig_corr1_dict = {\n",
    "    'is_flat':sig_corr1[0],\n",
    "    'is_tv':sig_corr1[1],\n",
    "    'is_ac':sig_corr1[2],\n",
    "    'num_children':sig_corr1[3],\n",
    "    'is_urban':sig_corr1[4]\n",
    "}"
   ]
  },
  {
   "cell_type": "code",
   "execution_count": 18,
   "metadata": {},
   "outputs": [
    {
     "data": {
      "text/plain": [
       "{'is_flat': 0.14792657834181372,\n",
       " 'is_tv': 0.19761274362116457,\n",
       " 'is_ac': 0.3900028129199385,\n",
       " 'num_children': 0.44751233714142713,\n",
       " 'is_urban': 0.6495680816675579}"
      ]
     },
     "execution_count": 18,
     "metadata": {},
     "output_type": "execute_result"
    }
   ],
   "source": [
    "sig_corr1_dict"
   ]
  },
  {
   "cell_type": "markdown",
   "metadata": {},
   "source": [
    "### Step 2: Compare with Exploratory Results"
   ]
  },
  {
   "cell_type": "markdown",
   "metadata": {},
   "source": [
    "__Column - - - - - Column - - - - - Correlation value__\n",
    "\n",
    "amount_paid -- amount_paid -- 1.0000000000\n",
    "\n",
    "amount_paid\t-- ave_monthly_income -- 0.0258885018034025\n",
    "\n",
    "amount_paid\t-- housearea -- 0.0961565276562585\n",
    "\n",
    "amount_paid\t-- is_ac -- 0.390002812919939\n",
    "\n",
    "amount_paid\t-- is_flat -- 0.147926578341814\n",
    "\n",
    "amount_paid\t-- is_tv -- 0.197612743621165\n",
    "\n",
    "amount_paid\t-- is_urban -- 0.649568081667556\n",
    "\n",
    "amount_paid\t-- num_children -- 0.447512337141428\n",
    "\n",
    "amount_paid\t-- num_people -- 0.0535010135220474\n",
    "\n",
    "amount_paid\t-- num_rooms -- -0.0239329719294111"
   ]
  },
  {
   "cell_type": "markdown",
   "metadata": {},
   "source": [
    "Shown above are the correlation results among all features. I extracted only the 'amount_paid' correlation values because that is the feature we are trying to predict.\n",
    "\n",
    "Shown below are the values of the 5 most significant predictors."
   ]
  },
  {
   "cell_type": "code",
   "execution_count": 42,
   "metadata": {},
   "outputs": [],
   "source": [
    "exploratory_corr_dict = {\n",
    "    'is_flat': 0.147926578341814,\n",
    "    'is_tv': 0.197612743621165,\n",
    "    'is_ac':0.390002812919939,\n",
    "    'num_children':0.447512337141428,\n",
    "    'is_urban':0.649568081667556\n",
    "}"
   ]
  },
  {
   "cell_type": "code",
   "execution_count": 43,
   "metadata": {},
   "outputs": [
    {
     "data": {
      "text/plain": [
       "{'is_flat': 0.147926578341814,\n",
       " 'is_tv': 0.197612743621165,\n",
       " 'is_ac': 0.390002812919939,\n",
       " 'num_children': 0.447512337141428,\n",
       " 'is_urban': 0.649568081667556}"
      ]
     },
     "execution_count": 43,
     "metadata": {},
     "output_type": "execute_result"
    }
   ],
   "source": [
    "exploratory_corr_dict"
   ]
  },
  {
   "cell_type": "code",
   "execution_count": 44,
   "metadata": {},
   "outputs": [
    {
     "data": {
      "text/plain": [
       "is_flat         0.147927\n",
       "is_tv           0.197613\n",
       "is_ac           0.390003\n",
       "num_children    0.447512\n",
       "is_urban        0.649568\n",
       "dtype: float64"
      ]
     },
     "execution_count": 44,
     "metadata": {},
     "output_type": "execute_result"
    }
   ],
   "source": [
    "sig_corr1_dict"
   ]
  },
  {
   "cell_type": "code",
   "execution_count": 45,
   "metadata": {},
   "outputs": [],
   "source": [
    "sig_corr1_dict = pd.Series(sig_corr1_dict)\n",
    "exploratory_corr_dict = pd.Series(exploratory_corr_dict)"
   ]
  },
  {
   "cell_type": "code",
   "execution_count": 46,
   "metadata": {},
   "outputs": [
    {
     "data": {
      "text/plain": [
       "is_flat        -2.775558e-16\n",
       "is_tv          -4.163336e-16\n",
       "is_ac          -4.996004e-16\n",
       "num_children   -8.881784e-16\n",
       "is_urban        1.887379e-15\n",
       "dtype: float64"
      ]
     },
     "execution_count": 46,
     "metadata": {},
     "output_type": "execute_result"
    }
   ],
   "source": [
    "corr_diff = sig_corr1_dict - exploratory_corr_dict\n",
    "corr_diff"
   ]
  },
  {
   "cell_type": "code",
   "execution_count": 50,
   "metadata": {},
   "outputs": [
    {
     "data": {
      "text/plain": [
       "is_flat        -0.0\n",
       "is_tv          -0.0\n",
       "is_ac          -0.0\n",
       "num_children   -0.0\n",
       "is_urban        0.0\n",
       "dtype: float64"
      ]
     },
     "execution_count": 50,
     "metadata": {},
     "output_type": "execute_result"
    }
   ],
   "source": [
    "corr_diff.round(10)"
   ]
  },
  {
   "cell_type": "markdown",
   "metadata": {},
   "source": [
    "### The difference between the automated correlation results in Exploratory and the correlation results I made using Pandas, NumPy, and Seaborn are 0 (rounded 10 decimal places)."
   ]
  },
  {
   "cell_type": "code",
   "execution_count": null,
   "metadata": {},
   "outputs": [],
   "source": []
  }
 ],
 "metadata": {
  "kernelspec": {
   "display_name": "Python 3",
   "language": "python",
   "name": "python3"
  },
  "language_info": {
   "codemirror_mode": {
    "name": "ipython",
    "version": 3
   },
   "file_extension": ".py",
   "mimetype": "text/x-python",
   "name": "python",
   "nbconvert_exporter": "python",
   "pygments_lexer": "ipython3",
   "version": "3.7.6"
  }
 },
 "nbformat": 4,
 "nbformat_minor": 4
}
